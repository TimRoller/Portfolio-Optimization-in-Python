{
 "cells": [
  {
   "cell_type": "code",
   "execution_count": 1,
   "metadata": {
    "collapsed": false
   },
   "outputs": [],
   "source": [
    "'''Markowitz Optimization in python, using pandas, and Yahoo Finance Data. Input a \n",
    "list of tickers, and the program will calcuate historical returns, a covariance matrix, and \n",
    "finally, the individual stock weigthings that maximize the portfolio sharpe ratio, defined as\n",
    "sharpe ratio = (expected portfolio return - risk free rate)/portfolio standard deviation'''\n",
    "\n",
    "\n",
    "\n",
    "#various pandas, numpy\n",
    "import pandas as pd\n",
    "import numpy as np\n",
    "import pandas_datareader.data as web\n",
    "from datetime import datetime\n",
    "import scipy as sp\n",
    "import scipy.optimize as scopt\n",
    "import scipy.stats as spstats\n",
    "import matplotlib.mlab as mlab\n",
    "# plotting\n",
    "\n",
    "import matplotlib.pyplot as plt\n",
    "\n",
    "# make plots inline\n",
    "%matplotlib inline\n",
    "\n",
    "# formatting options\n",
    "pd.set_option('display.notebook_repr_html', False)\n",
    "pd.set_option('display.max_columns', 7)\n",
    "pd.set_option('display.max_rows', 10) \n",
    "pd.set_option('display.width', 82) \n",
    "pd.set_option('precision', 7)"
   ]
  },
  {
   "cell_type": "code",
   "execution_count": 19,
   "metadata": {
    "collapsed": false
   },
   "outputs": [],
   "source": [
    "'''Create the function that stores Tickers in a dataframe'''\n",
    "def create_portfolio(tickers, weights=None):\n",
    "    if weights is None: \n",
    "        shares = np.ones(len(tickers))/len(tickers)\n",
    "    portfolio = pd.DataFrame({'Tickers': tickers, \n",
    "                              'Weights': weights}, \n",
    "                             index=tickers)\n",
    "    return portfolio\n"
   ]
  },
  {
   "cell_type": "code",
   "execution_count": 3,
   "metadata": {
    "collapsed": false
   },
   "outputs": [],
   "source": [
    "def get_historical_closes(ticker, start_date, end_date):\n",
    "    # get the data for the tickers.  This will be a panel\n",
    "    p = web.DataReader(ticker, \"yahoo\", start_date, end_date)    \n",
    "    # convert the panel to a DataFrame and selection only Adj Close\n",
    "    # while making all index levels columns\n",
    "    d = p.to_frame()['Adj Close'].reset_index()\n",
    "    # rename the columns\n",
    "    d.rename(columns={'minor': 'Ticker', \n",
    "                      'Adj Close': 'Close'}, inplace=True)\n",
    "    # pivot each ticker to a column\n",
    "    pivoted = d.pivot(index='Date', columns='Ticker')\n",
    "    # and drop the one level on the columns\n",
    "    pivoted.columns = pivoted.columns.droplevel(0)\n",
    "    return pivoted"
   ]
  },
  {
   "cell_type": "code",
   "execution_count": 4,
   "metadata": {
    "collapsed": false
   },
   "outputs": [
    {
     "data": {
      "text/plain": [
       "Ticker           AAPL      BRK-B        JPM         KO       MSFT          T\n",
       "Date                                                                        \n",
       "2010-01-04  27.727039  66.220001  36.148636  23.123276  25.555485  19.299578\n",
       "2010-01-05  27.774976  66.540001  36.848832  22.843558  25.563741  19.205039\n",
       "2010-01-06  27.333178  66.199997  37.051297  22.835451  25.406859  18.924023\n",
       "2010-01-07  27.282650  66.459999  37.785239  22.778696  25.142634  18.711547\n",
       "2010-01-08  27.464034  66.440002  37.692441  22.357094  25.316031  18.574467"
      ]
     },
     "execution_count": 4,
     "metadata": {},
     "output_type": "execute_result"
    }
   ],
   "source": [
    "closes = get_historical_closes(['MSFT', 'AAPL', 'KO', \"JPM\", \"BRK-B\", \"T\"], '2010-01-01', '2017-01-01')\n",
    "closes[:5]"
   ]
  },
  {
   "cell_type": "code",
   "execution_count": 5,
   "metadata": {
    "collapsed": false
   },
   "outputs": [],
   "source": [
    "def calc_daily_returns(closes):\n",
    "    return np.log(closes/closes.shift(1))"
   ]
  },
  {
   "cell_type": "code",
   "execution_count": 6,
   "metadata": {
    "collapsed": false
   },
   "outputs": [
    {
     "data": {
      "text/plain": [
       "Ticker           AAPL      BRK-B        JPM         KO       MSFT          T\n",
       "Date                                                                        \n",
       "2010-01-04        NaN        NaN        NaN        NaN        NaN        NaN\n",
       "2010-01-05  0.0017274  0.0048207  0.0191847 -0.0121706  0.0003230 -0.0049105\n",
       "2010-01-06 -0.0160342 -0.0051229  0.0054794 -0.0003550 -0.0061558 -0.0147405\n",
       "2010-01-07 -0.0018503  0.0039198  0.0196152 -0.0024885 -0.0104542 -0.0112914\n",
       "2010-01-08  0.0066263 -0.0003009 -0.0024590 -0.0186820  0.0068729 -0.0073529"
      ]
     },
     "execution_count": 6,
     "metadata": {},
     "output_type": "execute_result"
    }
   ],
   "source": [
    "daily_returns = calc_daily_returns(closes)\n",
    "daily_returns[:5]"
   ]
  },
  {
   "cell_type": "code",
   "execution_count": 7,
   "metadata": {
    "collapsed": true
   },
   "outputs": [],
   "source": [
    "\n",
    "# calculate annual returns\n",
    "def calc_annual_returns(daily_returns):\n",
    "    grouped = np.exp(daily_returns.groupby(\n",
    "        lambda date: date.year).sum())-1\n",
    "    return grouped"
   ]
  },
  {
   "cell_type": "code",
   "execution_count": 8,
   "metadata": {
    "collapsed": false
   },
   "outputs": [
    {
     "data": {
      "text/plain": [
       "Ticker       AAPL      BRK-B        JPM         KO       MSFT          T\n",
       "2010    0.5072194  0.2097554 -0.0062920  0.1893662 -0.0794414  0.0945481\n",
       "2011    0.2555803 -0.0475596 -0.1991802  0.0945864 -0.0451566  0.0902392\n",
       "2012    0.3256689  0.1756225  0.3618060  0.0652759  0.0579886  0.1748770\n",
       "2013    0.0806949  0.3217392  0.3673336  0.1723302  0.4429798  0.0972209\n",
       "2014    0.4062250  0.2664473  0.0988281  0.0526609  0.2756462  0.0065947\n",
       "2015   -0.0301371 -0.1206127  0.0837256  0.0513985  0.2269185  0.0831979\n",
       "2016    0.1248042  0.2343230  0.3453639 -0.0035709  0.1507775  0.2987440"
      ]
     },
     "execution_count": 8,
     "metadata": {},
     "output_type": "execute_result"
    }
   ],
   "source": [
    "annual_returns = calc_annual_returns(daily_returns)\n",
    "annual_returns"
   ]
  },
  {
   "cell_type": "code",
   "execution_count": 9,
   "metadata": {
    "collapsed": true
   },
   "outputs": [],
   "source": [
    "def calc_portfolio_var(returns, weights=None):\n",
    "    if weights is None: \n",
    "        weights = np.ones(returns.columns.size) / \\\n",
    "        returns.columns.size\n",
    "    sigma = np.cov(returns.T,ddof=0)\n",
    "    var = (weights * sigma * weights.T).sum()\n",
    "    return var"
   ]
  },
  {
   "cell_type": "code",
   "execution_count": null,
   "metadata": {
    "collapsed": true
   },
   "outputs": [],
   "source": []
  },
  {
   "cell_type": "code",
   "execution_count": 10,
   "metadata": {
    "collapsed": false
   },
   "outputs": [
    {
     "data": {
      "text/plain": [
       "0.0057301736886791509"
      ]
     },
     "execution_count": 10,
     "metadata": {},
     "output_type": "execute_result"
    }
   ],
   "source": [
    "# calculate our portfolio variance (equal weighted)\n",
    "calc_portfolio_var(annual_returns)"
   ]
  },
  {
   "cell_type": "code",
   "execution_count": 11,
   "metadata": {
    "collapsed": true
   },
   "outputs": [],
   "source": [
    "def sharpe_ratio(returns, weights = None, risk_free_rate = 0.015):\n",
    "    n = returns.columns.size\n",
    "    if weights is None: weights = np.ones(n)/n\n",
    "    # get the portfolio variance\n",
    "    var = calc_portfolio_var(returns, weights)\n",
    "    # and the means of the stocks in the portfolio\n",
    "    means = returns.mean()\n",
    "    # and return the sharpe ratio\n",
    "    return (means.dot(weights) - risk_free_rate)/np.sqrt(var)"
   ]
  },
  {
   "cell_type": "code",
   "execution_count": 12,
   "metadata": {
    "collapsed": false
   },
   "outputs": [
    {
     "data": {
      "text/plain": [
       "1.7703630978790612"
      ]
     },
     "execution_count": 12,
     "metadata": {},
     "output_type": "execute_result"
    }
   ],
   "source": [
    "# calculate equal weighted sharpe ratio\n",
    "sharpe_ratio(annual_returns)"
   ]
  },
  {
   "cell_type": "code",
   "execution_count": 13,
   "metadata": {
    "collapsed": true
   },
   "outputs": [],
   "source": [
    "# function to minimize\n",
    "def y_f(x): return 2+x**2"
   ]
  },
  {
   "cell_type": "code",
   "execution_count": 14,
   "metadata": {
    "collapsed": false
   },
   "outputs": [
    {
     "name": "stdout",
     "output_type": "stream",
     "text": [
      "Optimization terminated successfully.\n",
      "         Current function value: 2.000000\n",
      "         Iterations: 27\n",
      "         Function evaluations: 54\n"
     ]
    },
    {
     "data": {
      "text/plain": [
       "array([ 0.])"
      ]
     },
     "execution_count": 14,
     "metadata": {},
     "output_type": "execute_result"
    }
   ],
   "source": [
    "scopt.fmin(y_f,1000)"
   ]
  },
  {
   "cell_type": "code",
   "execution_count": 15,
   "metadata": {
    "collapsed": true
   },
   "outputs": [],
   "source": [
    "def negative_sharpe_ratio_n_minus_1_stock(weights, \n",
    "                                          returns, \n",
    "                                          risk_free_rate):\n",
    "    \"\"\"\n",
    "    Given n-1 weights, return a negative sharpe ratio\n",
    "    \"\"\"\n",
    "    weights2 = sp.append(weights, 1-np.sum(weights))\n",
    "    return -sharpe_ratio(returns, weights2, risk_free_rate)"
   ]
  },
  {
   "cell_type": "code",
   "execution_count": 16,
   "metadata": {
    "collapsed": true
   },
   "outputs": [],
   "source": [
    "def optimize_portfolio(returns, risk_free_rate):\n",
    "    \"\"\" \n",
    "    Performs the optimization\n",
    "    \"\"\"\n",
    "    # start with equal weights\n",
    "    w0 = np.ones(returns.columns.size-1, \n",
    "                 dtype=float) * 1.0 / returns.columns.size\n",
    "    # minimize the negative sharpe value\n",
    "    w1 = scopt.fmin(negative_sharpe_ratio_n_minus_1_stock, \n",
    "                    w0, args=(returns, risk_free_rate))\n",
    "    # build final set of weights\n",
    "    final_w = sp.append(w1, 1 - np.sum(w1))\n",
    "    # and calculate the final, optimized, sharpe ratio\n",
    "    final_sharpe = sharpe_ratio(returns, final_w, risk_free_rate)\n",
    "    return (final_w, final_sharpe)"
   ]
  },
  {
   "cell_type": "code",
   "execution_count": 17,
   "metadata": {
    "collapsed": false
   },
   "outputs": [
    {
     "name": "stdout",
     "output_type": "stream",
     "text": [
      "Optimization terminated successfully.\n",
      "         Current function value: -2.682138\n",
      "         Iterations: 169\n",
      "         Function evaluations: 276\n"
     ]
    },
    {
     "data": {
      "text/plain": [
       "(array([ 0.33181466,  0.03873414,  0.03506712,  0.31419176,  0.06624746,\n",
       "         0.21394486]), 2.6821379382805546)"
      ]
     },
     "execution_count": 17,
     "metadata": {},
     "output_type": "execute_result"
    }
   ],
   "source": [
    "# optimize our portfolio\n",
    "optimize_portfolio(annual_returns, 0.015)"
   ]
  },
  {
   "cell_type": "code",
   "execution_count": null,
   "metadata": {
    "collapsed": true
   },
   "outputs": [],
   "source": []
  },
  {
   "cell_type": "code",
   "execution_count": null,
   "metadata": {
    "collapsed": true
   },
   "outputs": [],
   "source": []
  }
 ],
 "metadata": {
  "anaconda-cloud": {},
  "kernelspec": {
   "display_name": "Python 3",
   "language": "python",
   "name": "python3"
  },
  "language_info": {
   "codemirror_mode": {
    "name": "ipython",
    "version": 3
   },
   "file_extension": ".py",
   "mimetype": "text/x-python",
   "name": "python",
   "nbconvert_exporter": "python",
   "pygments_lexer": "ipython3",
   "version": "3.6.0"
  }
 },
 "nbformat": 4,
 "nbformat_minor": 1
}
